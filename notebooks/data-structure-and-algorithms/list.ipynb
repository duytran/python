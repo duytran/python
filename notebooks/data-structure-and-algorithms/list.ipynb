{
 "cells": [
  {
   "cell_type": "markdown",
   "metadata": {},
   "source": [
    "# LIST"
   ]
  },
  {
   "cell_type": "markdown",
   "metadata": {},
   "source": [
    "The list is a most versatile datatype available in Python which can be written as a list of comma-separated values (items) between square brackets. `Important thing about a list is that items in a list need not be of the same type`."
   ]
  },
  {
   "cell_type": "markdown",
   "metadata": {},
   "source": [
    "Creating a list is as simple as putting different comma-separated values between square brackets. For example −"
   ]
  },
  {
   "cell_type": "code",
   "execution_count": 1,
   "metadata": {},
   "outputs": [],
   "source": [
    "list1 = ['physics', 'chemistry', 1997, 2000]\n",
    "list2 = [1, 2, 3, 4, 5]\n",
    "list3 = [\"a\", \"b\", \"c\", \"d\"]"
   ]
  },
  {
   "cell_type": "markdown",
   "metadata": {},
   "source": [
    "## Accessing Values in Lists"
   ]
  },
  {
   "cell_type": "code",
   "execution_count": 4,
   "metadata": {},
   "outputs": [
    {
     "name": "stdout",
     "output_type": "stream",
     "text": [
      "list1[0] physics\n",
      "list2[1:5] [2, 3, 4, 5]\n"
     ]
    }
   ],
   "source": [
    "print ('list1[0]', list1[0])\n",
    "print ('list2[1:5]', list2[1:5])"
   ]
  },
  {
   "cell_type": "markdown",
   "metadata": {},
   "source": [
    "## Updating Lists"
   ]
  },
  {
   "cell_type": "code",
   "execution_count": 6,
   "metadata": {},
   "outputs": [
    {
     "name": "stdout",
     "output_type": "stream",
     "text": [
      "Value available at index 2\n",
      "2001\n",
      "New value available at index 2\n",
      "2001\n"
     ]
    }
   ],
   "source": [
    "print ('Value available at index 2')\n",
    "print (list1[2])\n",
    "list1[2] = 2001\n",
    "print ('New value available at index 2')\n",
    "print (list1[2])"
   ]
  },
  {
   "cell_type": "markdown",
   "metadata": {},
   "source": [
    "## Delete List Elements"
   ]
  },
  {
   "cell_type": "code",
   "execution_count": 7,
   "metadata": {},
   "outputs": [
    {
     "name": "stdout",
     "output_type": "stream",
     "text": [
      "['physics', 'chemistry', 2001, 2000]\n",
      "After deleting value at index 2\n",
      "['physics', 'chemistry', 2000]\n"
     ]
    }
   ],
   "source": [
    "print (list1)\n",
    "del list1[2]\n",
    "print ('After deleting value at index 2')\n",
    "print (list1)"
   ]
  },
  {
   "cell_type": "markdown",
   "metadata": {},
   "source": [
    "## Basic List Operations"
   ]
  },
  {
   "cell_type": "markdown",
   "metadata": {},
   "source": [
    "|Python Expression|Results|Description|\n",
    "|---|---|---|\n",
    "|len([1, 2, 3])|3|Length|\n",
    "|[1, 2, 3] + [4, 5, 6]|[1, 2, 3, 4, 5, 6]|Concatenation|\n",
    "|['Hi!'] * 4|['Hi!', 'Hi!', 'Hi!', 'Hi!']|Repetition|\n",
    "|3 in [1, 2, 3]|True|Membership|\n",
    "|for x in [1, 2, 3]: print x,|1 2 3|Iteration|"
   ]
  },
  {
   "cell_type": "code",
   "execution_count": null,
   "metadata": {},
   "outputs": [],
   "source": []
  }
 ],
 "metadata": {
  "kernelspec": {
   "display_name": "Python 3",
   "language": "python",
   "name": "python3"
  },
  "language_info": {
   "codemirror_mode": {
    "name": "ipython",
    "version": 3
   },
   "file_extension": ".py",
   "mimetype": "text/x-python",
   "name": "python",
   "nbconvert_exporter": "python",
   "pygments_lexer": "ipython3",
   "version": "3.6.7"
  }
 },
 "nbformat": 4,
 "nbformat_minor": 2
}
