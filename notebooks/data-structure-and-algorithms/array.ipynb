{
 "cells": [
  {
   "cell_type": "markdown",
   "metadata": {},
   "source": [
    "# Array"
   ]
  },
  {
   "cell_type": "markdown",
   "metadata": {},
   "source": [
    "Array is a container which can hold a fix number of items and these items should be of the same type. Most of the data structures make use of array to implement their algorithms. Following are the important terms to understand the concept of array"
   ]
  },
  {
   "cell_type": "markdown",
   "metadata": {},
   "source": [
    "* **Element** - Each item stored in an array is called an element\n",
    "* **Index** - Each location of an element in an array has a numerical index which is used to identify the element."
   ]
  },
  {
   "cell_type": "markdown",
   "metadata": {},
   "source": [
    "## Basic Operations"
   ]
  },
  {
   "cell_type": "markdown",
   "metadata": {},
   "source": [
    "Following are the basic operations supported by an array.\n",
    "\n",
    "* **Traverse** − print all the array elements one by one.\n",
    "\n",
    "* **Insertion** − Adds an element at the given index.\n",
    "\n",
    "* **Deletion** − Deletes an element at the given index.\n",
    "\n",
    "* **Search** − Searches an element using the given index or by the value.\n",
    "\n",
    "* **Update** − Updates an element at the given index."
   ]
  },
  {
   "cell_type": "markdown",
   "metadata": {},
   "source": [
    "Array is created in Python by importing array module to the python program. Then the array is declared as shown eblow."
   ]
  },
  {
   "cell_type": "markdown",
   "metadata": {},
   "source": [
    "```python\n",
    "from array import *\n",
    "arrayName = array(typecode, [Initializers])\n",
    "```"
   ]
  },
  {
   "cell_type": "markdown",
   "metadata": {},
   "source": [
    "Typecode are the codes that are used to define the type of value the array will hold. Some common typecodes used are:"
   ]
  },
  {
   "cell_type": "markdown",
   "metadata": {},
   "source": [
    "|Typecode|Value|\n",
    "|---|---|\n",
    "|b|Represents signed integer of size 1 byte|\n",
    "|B|Represents unsigned integer of size 1 byte|\n",
    "|c|Represents character of size 1 byte|\n",
    "|i|Represents signed integer of size 2 bytes|\n",
    "|I|Represents unsigned integer of size 2 bytes|\n",
    "|f|Represents floating point of size 4 bytes|\n",
    "|d|Represents floating point of size 8 bytes|"
   ]
  },
  {
   "cell_type": "markdown",
   "metadata": {},
   "source": [
    "The below code creates an array named array1."
   ]
  },
  {
   "cell_type": "code",
   "execution_count": 9,
   "metadata": {},
   "outputs": [
    {
     "name": "stdout",
     "output_type": "stream",
     "text": [
      "10\n",
      "20\n",
      "30\n",
      "40\n",
      "50\n"
     ]
    }
   ],
   "source": [
    "def print_array(arr):\n",
    "    for x in arr:\n",
    "        print(x)\n",
    "\n",
    "\n",
    "from array import *\n",
    "array1 = array('i', [10, 20, 30, 40, 50])\n",
    "print_array(array1)"
   ]
  },
  {
   "cell_type": "markdown",
   "metadata": {},
   "source": [
    "## Accessing Array Element"
   ]
  },
  {
   "cell_type": "code",
   "execution_count": 7,
   "metadata": {},
   "outputs": [
    {
     "name": "stdout",
     "output_type": "stream",
     "text": [
      "10\n",
      "30\n"
     ]
    }
   ],
   "source": [
    "print (array1[0])\n",
    "print (array1[2])"
   ]
  },
  {
   "cell_type": "markdown",
   "metadata": {},
   "source": [
    "## Insertion Operation"
   ]
  },
  {
   "cell_type": "code",
   "execution_count": 10,
   "metadata": {},
   "outputs": [
    {
     "name": "stdout",
     "output_type": "stream",
     "text": [
      "10\n",
      "60\n",
      "20\n",
      "30\n",
      "40\n",
      "50\n"
     ]
    }
   ],
   "source": [
    "array1.insert(1, 60)\n",
    "print_array(array1)"
   ]
  },
  {
   "cell_type": "markdown",
   "metadata": {},
   "source": [
    "## Deletion Operation"
   ]
  },
  {
   "cell_type": "code",
   "execution_count": 11,
   "metadata": {},
   "outputs": [
    {
     "name": "stdout",
     "output_type": "stream",
     "text": [
      "10\n",
      "60\n",
      "20\n",
      "30\n",
      "50\n"
     ]
    }
   ],
   "source": [
    "array1.remove(40)\n",
    "print_array(array1)"
   ]
  },
  {
   "cell_type": "markdown",
   "metadata": {},
   "source": [
    "## Search Operation"
   ]
  },
  {
   "cell_type": "code",
   "execution_count": 13,
   "metadata": {},
   "outputs": [
    {
     "name": "stdout",
     "output_type": "stream",
     "text": [
      "4\n"
     ]
    }
   ],
   "source": [
    "print(array1.index(50))"
   ]
  },
  {
   "cell_type": "markdown",
   "metadata": {},
   "source": [
    "## Update Operation"
   ]
  },
  {
   "cell_type": "code",
   "execution_count": 14,
   "metadata": {},
   "outputs": [
    {
     "name": "stdout",
     "output_type": "stream",
     "text": [
      "10\n",
      "60\n",
      "80\n",
      "30\n",
      "50\n"
     ]
    }
   ],
   "source": [
    "array1[2] = 80\n",
    "print_array(array1)"
   ]
  },
  {
   "cell_type": "code",
   "execution_count": null,
   "metadata": {},
   "outputs": [],
   "source": []
  }
 ],
 "metadata": {
  "kernelspec": {
   "display_name": "Python 3",
   "language": "python",
   "name": "python3"
  },
  "language_info": {
   "codemirror_mode": {
    "name": "ipython",
    "version": 3
   },
   "file_extension": ".py",
   "mimetype": "text/x-python",
   "name": "python",
   "nbconvert_exporter": "python",
   "pygments_lexer": "ipython3",
   "version": "3.6.7"
  }
 },
 "nbformat": 4,
 "nbformat_minor": 2
}
